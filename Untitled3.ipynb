{
 "cells": [
  {
   "cell_type": "code",
   "execution_count": 1,
   "id": "d4b37905-8e6f-4c39-a14f-9d5126ad1599",
   "metadata": {},
   "outputs": [
    {
     "name": "stdout",
     "output_type": "stream",
     "text": [
      "loading Roboflow workspace...\n",
      "loading Roboflow project...\n"
     ]
    }
   ],
   "source": [
    "from image_preprocess import preprocessing_image\n",
    "from image_display import display_img\n",
    "from prediction import predict_ocr\n"
   ]
  },
  {
   "cell_type": "code",
   "execution_count": 16,
   "id": "771ce080-6bd2-492a-afcf-670e5a3fbcd4",
   "metadata": {},
   "outputs": [
    {
     "data": {
      "text/plain": [
       "'٢٧٠٠١٢١١٦٠٠٨١٩'"
      ]
     },
     "execution_count": 16,
     "metadata": {},
     "output_type": "execute_result"
    }
   ],
   "source": [
    "import cv2\n",
    "image='Downloads/ids/8.jpeg'\n",
    "#Loading image using cv2\n",
    "base = cv2.imread(image)\n",
    "pred=predict_ocr(base)\n",
    "pred"
   ]
  }
 ],
 "metadata": {
  "kernelspec": {
   "display_name": "Python 3 (ipykernel)",
   "language": "python",
   "name": "python3"
  },
  "language_info": {
   "codemirror_mode": {
    "name": "ipython",
    "version": 3
   },
   "file_extension": ".py",
   "mimetype": "text/x-python",
   "name": "python",
   "nbconvert_exporter": "python",
   "pygments_lexer": "ipython3",
   "version": "3.10.9"
  }
 },
 "nbformat": 4,
 "nbformat_minor": 5
}
